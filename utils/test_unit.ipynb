{
 "cells": [
  {
   "cell_type": "code",
   "execution_count": 1,
   "metadata": {},
   "outputs": [
    {
     "ename": "ModuleNotFoundError",
     "evalue": "No module named 'CSV'",
     "output_type": "error",
     "traceback": [
      "\u001b[1;31m---------------------------------------------------------------------------\u001b[0m",
      "\u001b[1;31mModuleNotFoundError\u001b[0m                       Traceback (most recent call last)",
      "Cell \u001b[1;32mIn [1], line 3\u001b[0m\n\u001b[0;32m      1\u001b[0m \u001b[39mimport\u001b[39;00m \u001b[39mos\u001b[39;00m\n\u001b[1;32m----> 3\u001b[0m \u001b[39mfrom\u001b[39;00m \u001b[39mCSV\u001b[39;00m \u001b[39mimport\u001b[39;00m CSV\n\u001b[0;32m      5\u001b[0m \u001b[39mimport\u001b[39;00m \u001b[39mtime\u001b[39;00m\n\u001b[0;32m      6\u001b[0m \u001b[39mimport\u001b[39;00m \u001b[39mrandom\u001b[39;00m\n",
      "\u001b[1;31mModuleNotFoundError\u001b[0m: No module named 'CSV'"
     ]
    }
   ],
   "source": [
    "import os\n",
    "\n",
    "from CSV import CSV\n",
    "\n",
    "import time\n",
    "import random\n",
    "import csv"
   ]
  },
  {
   "cell_type": "code",
   "execution_count": 41,
   "metadata": {},
   "outputs": [],
   "source": [
    "vuelo = {'num_ida': 'KL1688| Operado por KLM Cityhopper',\n",
    "'fecha_ida': 'lun., 14 nov. 2022',\n",
    "'num_vuelta': 'KL1687| Operado por KLM Cityhopper',\n",
    "'fecha_vuelta': 'sáb., 3 dic. 2022',\n",
    "'precio': '174 €',\n",
    "'vendedor': 'eDreams ',\n",
    "}"
   ]
  },
  {
   "cell_type": "code",
   "execution_count": 42,
   "metadata": {},
   "outputs": [
    {
     "data": {
      "text/plain": [
       "1"
      ]
     },
     "execution_count": 42,
     "metadata": {},
     "output_type": "execute_result"
    }
   ],
   "source": [
    "CSV.escribir_vuelo(vuelo)"
   ]
  },
  {
   "cell_type": "code",
   "execution_count": 43,
   "metadata": {},
   "outputs": [],
   "source": [
    "with open('vuelos.csv', 'a', encoding='UTF8', newline='') as f:\n",
    "    writer = csv.writer(f)\n",
    "    writer.writerows([vuelo.values()])#[vuelo[\"fecha_ida\"]]"
   ]
  },
  {
   "cell_type": "code",
   "execution_count": 44,
   "metadata": {},
   "outputs": [
    {
     "name": "stdout",
     "output_type": "stream",
     "text": [
      "2022-11-29 14:09:45.769370\n"
     ]
    }
   ],
   "source": [
    "import datetime\n",
    "now = datetime.datetime.now()\n",
    "print(now)"
   ]
  },
  {
   "cell_type": "code",
   "execution_count": 45,
   "metadata": {},
   "outputs": [
    {
     "name": "stdout",
     "output_type": "stream",
     "text": [
      "https://www.skyscanner.es/transporte/vuelos/bio/cdg/230203/230205/config/9925-2302031335--31685-0-10413-2302031515|10413-2302051555--31685-0-9925-2302051735?adults=1&adultsv2=1&cabinclass=economy&children=0&childrenv2=&destinationentityid=27539733&inboundaltsenabled=false&infants=0&originentityid=27538794&outboundaltsenabled=false&preferdirects=false&ref=home&rtn=1\n",
      "\n",
      "https://www.skyscanner.es/transporte/vuelos/bio/mila/230203/230205/config/9925-2302031345--32478-1-13572-2302031750|13572-2302051740--32090-1-9925-2302052150?adultsv2=1&cabinclass=economy&childrenv2=&inboundaltsenabled=false&outboundaltsenabled=false&preferdirects=false&priceSourceId=&qp_prevCurrency=EUR&qp_prevPrice=73&qp_prevProvider=ins_browse&rtn=1\n",
      "\n",
      "https://www.skyscanner.es/transport/flights/bio/ibz/230222/230225/config/9925-2302221530--31685-0-12404-2302221655|12404-2302251935--31685-1-9925-2302252300?adultsv2=1&cabinclass=economy&childrenv2=&inboundaltsenabled=false&outboundaltsenabled=false&preferdirects=false&rtn=1\n"
     ]
    }
   ],
   "source": [
    "f = open(\"urls.txt\", \"r\")\n",
    "lineas = f.readlines()\n",
    "\n",
    "f.close()\n",
    "for linea in lineas:\n",
    "    print(linea)"
   ]
  },
  {
   "cell_type": "code",
   "execution_count": 46,
   "metadata": {},
   "outputs": [
    {
     "name": "stdout",
     "output_type": "stream",
     "text": [
      "Escaneando vuelo  1\n",
      "Escaneando vuelo  2\n",
      "Escaneando vuelo  3\n"
     ]
    }
   ],
   "source": [
    "f = open(\"urls.txt\", \"r\")\n",
    "lineas = f.readlines()\n",
    "f.close()\n",
    "\n",
    "iteracion = 0\n",
    "for linea in lineas:\n",
    "    iteracion += 1\n",
    "    print(\"Escaneando vuelo \", iteracion)"
   ]
  },
  {
   "cell_type": "code",
   "execution_count": 32,
   "metadata": {},
   "outputs": [
    {
     "name": "stdout",
     "output_type": "stream",
     "text": [
      "esperando 1.74 segundos\n",
      "esperando 4.13 segundos\n",
      "esperando 0.99 segundos\n",
      "Vuelo con escala...\n"
     ]
    }
   ],
   "source": [
    "import os\n",
    "import selenium.webdriver as webdriver\n",
    "from selenium.webdriver.firefox.service import Service\n",
    "from selenium.webdriver.firefox.options import Options\n",
    "from selenium.webdriver.common.by import By\n",
    "import time\n",
    "import random\n",
    "\n",
    "def randomTime(min, max):\n",
    "    tiempo = random.uniform(min, max)\n",
    "    print(\"esperando {} segundos\".format(round(tiempo,2)))\n",
    "    time.sleep(tiempo)\n",
    "    return\n",
    "\n",
    "\n",
    "user_agent = 'Mozilla/5.0 (Windows NT 10.0; Win64; x64; rv:106.0) Gecko/20100101 Firefox/106.0'\n",
    "firefox_driver = os.path.join(os.getcwd(), '..\\Drivers', 'geckodriver.exe')\n",
    "firefox_service = Service(firefox_driver)\n",
    "firefox_options = Options()\n",
    "firefox_options.set_preference(\"browser.privatebrowsing.autostart\", user_agent)\n",
    "\n",
    "browser = webdriver.Firefox(service=firefox_service, options=firefox_options)\n",
    "    # navigate to a webbsite\n",
    "#browser.get('https://www.skyscanner.es/transporte/vuelos/bio/waw/221104/221111/config/9925-2211040720--32677-1-17648-2211041625%7C17648-2211111650--32132-1-9925-2211112245?adults=1&adultsv2=1&cabinclass=economy&children=0&childrenv2=&destinationentityid=27547454&inboundaltsenabled=false&infants=0&originentityid=27538794&outboundaltsenabled=false&preferdirects=false&ref=home&rtn=1')\n",
    "browser.get('https://www.skyscanner.es/transporte/vuelos/bio/waw/230109/230116/config/9925-2301091300--32090-1-17648-2301092235|17648-2301160645--32090-1-9925-2301161210?adults=1&adultsv2=1&cabinclass=economy&children=0&childrenv2=&destinationentityid=27547454&inboundaltsenabled=false&infants=0&originentityid=27538794&outboundaltsenabled=false&preferdirects=false&ref=home&rtn=1')\n",
    "randomTime(1,3)\n",
    "browser.find_element(By.ID, 'acceptCookieButton').click()\n",
    "randomTime(2,5)\n",
    "# DESPLEGAR ELEMENTOS\n",
    "browser.find_element(\"xpath\", \"/html/body/div[2]/div[4]/div/div[2]/div/div[3]/div[1]/div[1]/button\").click()\n",
    "randomTime(0.5,1)# esperar a que se cargue\n",
    "browser.find_element(\"xpath\", \"/html/body/div[2]/div[4]/div/div[2]/div/div[3]/div[1]/div[2]/button\").click()\n",
    "#randomTime(1,2)# esperar a que se cargue\n",
    "\n",
    "# RECOPILAR DATOS\n",
    "num_vuelo = browser.find_element(\"xpath\", \"/html/body/div[2]/div[4]/div/div[2]/div/div[3]/div[1]/div[1]/div[2]/div/div/div[1]/span\").text\n",
    "#print(num_ida)\n",
    "fecha_vuelo = browser.find_element(\"xpath\", \"/html/body/div[2]/div[4]/div/div[2]/div/div[3]/div[1]/div[1]/div[1]/div/h4[2]\").text            #print(num_vuelta)\n",
    "precio = browser.find_element(\"xpath\", \"/html/body/div[2]/div[4]/div/div[2]/div/div[3]/div[1]/div[4]/div[1]/div[2]/div/div[2]/span[2]\").text\n",
    "#print(precio)\n",
    "vendedor = browser.find_element(\"xpath\", \"/html/body/div[2]/div[4]/div/div[2]/div/div[3]/div[1]/div[4]/div[1]/div[1]/span\").text\n",
    "#print(vendedor)\n",
    "#fecha_ida = browser.find_element(\"xpath\", \"/html/body/div[2]/div[4]/div/div[2]/div/div[3]/div[1]/div[1]/div[1]/div/h4[2]\").text\n",
    "#print(fecha_ida)\n",
    "#fecha_vuelta = browser.find_element(\"xpath\", \"/html/body/div[2]/div[4]/div/div[2]/div/div[3]/div[1]/div[2]/div[1]/div/h4[2]\").text\n",
    "#print(fecha_vuelta)\n",
    "aeropuerto_salida = browser.find_element(\"xpath\", \"/html/body/div[2]/div[4]/div/div[2]/div/div[3]/div[1]/div[1]/button/div[2]/div/div[2]/div[1]/span[2]/div/span\").text\n",
    "aeropuerto_destino = browser.find_element(\"xpath\", \"/html/body/div[2]/div[4]/div/div[2]/div/div[3]/div[1]/div[1]/button/div[2]/div/div[2]/div[3]/span[2]/div/span\").text\n",
    "hora_salida = browser.find_element(\"xpath\", \"/html/body/div[2]/div[4]/div/div[2]/div/div[3]/div[1]/div[1]/button/div[2]/div/div[2]/div[1]/span[1]/div/span\").text\n",
    "hora_llegada = browser.find_element(\"xpath\", \"/html/body/div[2]/div[4]/div/div[2]/div/div[3]/div[1]/div[1]/button/div[2]/div/div[2]/div[3]/span[1]/div/span\").text\n",
    "# if escala:\n",
    "try:\n",
    "    aeropuerto_escala = browser.find_element(\"xpath\", \"/html/body/div[2]/div[4]/div/div[2]/div/div[3]/div[1]/div[1]/button/div[2]/div/div[2]/div[2]/div[2]/div/span/div/span\").text\n",
    "    tiempo_escala = browser.find_element(\"xpath\", \"/html/body/div[2]/div[4]/div/div[2]/div/div[3]/div[1]/div[1]/div[2]/div/div/div[3]/div[1]/span\").text\n",
    "    print(\"Vuelo con escala...\")\n",
    "except:\n",
    "    aeropuerto_escala = None\n",
    "    tiempo_escala = None\n",
    "    print(\"Vuelo sin escala...\")"
   ]
  },
  {
   "cell_type": "code",
   "execution_count": null,
   "metadata": {},
   "outputs": [],
   "source": [
    "def comprobar_bot_detectado():\n",
    "    detectado = False\n",
    "    try:\n",
    "        if (browser.find_element(\"xpath\",\"/html/body/div/div/section[2]\").text == \"¿Eres una persona o un robot?\"):\n",
    "            print(\"Bot detectado por la plataforma.\")\n",
    "            detectado = True\n",
    "    except:\n",
    "        pass\n",
    "\n",
    "    return detectado"
   ]
  },
  {
   "cell_type": "code",
   "execution_count": null,
   "metadata": {},
   "outputs": [
    {
     "name": "stdout",
     "output_type": "stream",
     "text": [
      "Bot detectado por la plataforma.\n"
     ]
    },
    {
     "data": {
      "text/plain": [
       "True"
      ]
     },
     "execution_count": 3,
     "metadata": {},
     "output_type": "execute_result"
    }
   ],
   "source": [
    "comprobar_bot_detectado()"
   ]
  },
  {
   "cell_type": "code",
   "execution_count": null,
   "metadata": {},
   "outputs": [
    {
     "name": "stdout",
     "output_type": "stream",
     "text": [
      "Nos han pillado\n"
     ]
    }
   ],
   "source": [
    "if (browser.find_element(\"xpath\",\"/html/body/div/div/section[2]\").text == \"¿Eres una persona o un robot?\"):\n",
    "    print(\"Nos han pillado\")\n",
    "else:\n",
    "    print(\"todo ok\")"
   ]
  },
  {
   "cell_type": "code",
   "execution_count": null,
   "metadata": {},
   "outputs": [
    {
     "name": "stdout",
     "output_type": "stream",
     "text": [
      "VY8354\n"
     ]
    }
   ],
   "source": [
    "num_ida = browser.find_element(\"xpath\", \"/html/body/div[2]/div[4]/div/div[2]/div/div[3]/div[1]/div[1]/div[2]/div/div/div[1]/span\").text\n",
    "print(num_ida)"
   ]
  },
  {
   "cell_type": "code",
   "execution_count": null,
   "metadata": {},
   "outputs": [
    {
     "name": "stdout",
     "output_type": "stream",
     "text": [
      "Escaneando linea 1 sobre 3\n"
     ]
    }
   ],
   "source": [
    "f = open(\"urls.txt\", \"r\")\n",
    "lineas = f.readlines()\n",
    "f.close()\n",
    "iteracion = 1\n",
    "print(\"Escaneando linea {} sobre {}\".format(iteracion, len(lineas)) )"
   ]
  },
  {
   "cell_type": "code",
   "execution_count": null,
   "metadata": {},
   "outputs": [
    {
     "name": "stdout",
     "output_type": "stream",
     "text": [
      "true\n"
     ]
    }
   ],
   "source": [
    "if random.randint(0,1):\n",
    "    print(\"true\")\n",
    "else:\n",
    "    print(\"False\")"
   ]
  },
  {
   "cell_type": "code",
   "execution_count": null,
   "metadata": {},
   "outputs": [
    {
     "data": {
      "text/plain": [
       "['hola']"
      ]
     },
     "execution_count": 1,
     "metadata": {},
     "output_type": "execute_result"
    }
   ],
   "source": [
    "lista_url_fallidas = []\n",
    "lista_url_fallidas.append(\"hola\")\n",
    "lista_url_fallidas"
   ]
  },
  {
   "cell_type": "code",
   "execution_count": null,
   "metadata": {},
   "outputs": [
    {
     "data": {
      "text/plain": [
       "(2, 29)"
      ]
     },
     "execution_count": 1,
     "metadata": {},
     "output_type": "execute_result"
    }
   ],
   "source": [
    "from calendar import monthrange\n",
    "monthrange(2012, 2)"
   ]
  },
  {
   "cell_type": "code",
   "execution_count": null,
   "metadata": {},
   "outputs": [
    {
     "data": {
      "text/plain": [
       "11"
      ]
     },
     "execution_count": 6,
     "metadata": {},
     "output_type": "execute_result"
    }
   ],
   "source": [
    "from datetime import datetime\n",
    "today = datetime.now()\n",
    "today.month"
   ]
  },
  {
   "cell_type": "code",
   "execution_count": null,
   "metadata": {},
   "outputs": [
    {
     "name": "stdout",
     "output_type": "stream",
     "text": [
      "11 tiene 30 dias.\n"
     ]
    }
   ],
   "source": [
    "## obtener el numero de dias del mes actual\n",
    "from calendar import monthrange\n",
    "from datetime import datetime\n",
    "\n",
    "today = datetime.now()\n",
    "dias = monthrange(today.year, today.month)\n",
    "print('{} tiene {} dias.'.format(today.month,dias[1]))"
   ]
  },
  {
   "cell_type": "code",
   "execution_count": 48,
   "metadata": {},
   "outputs": [
    {
     "name": "stdout",
     "output_type": "stream",
     "text": [
      "November has 30 days. Today is 29.\n",
      "Progress of November is 96.7%\n"
     ]
    }
   ],
   "source": [
    "# https://www.studytonight.com/python-howtos/how-to-get-month-name-from-month-number-in-python\n",
    "\n",
    "from datetime import datetime\n",
    "\n",
    "#provide month number\n",
    "today = datetime.now()\n",
    "month_num = today.month\n",
    "datetime_object = datetime.strptime(str(month_num), \"%m\")\n",
    "\n",
    "full_month_name = datetime_object.strftime(\"%B\")\n",
    "dias = monthrange(today.year, today.month)\n",
    "print('{} has {} days. Today is {}.'.format(full_month_name,dias[1], today.day))\n",
    "print('Progress of {} is {:.1f}%'.format(full_month_name, today.day*100/dias[1]))"
   ]
  },
  {
   "cell_type": "code",
   "execution_count": 1,
   "metadata": {},
   "outputs": [
    {
     "name": "stdout",
     "output_type": "stream",
     "text": [
      "0.9666666666666667\n",
      "0.14285714285714285\n",
      "0.5833333333333334\n"
     ]
    }
   ],
   "source": [
    "from utils import Utils\n",
    "\n",
    "print(Utils.calcular_progreso_mes())\n",
    "print(Utils.calcular_progreso_semana())\n",
    "print(Utils.calcular_progreso_dia())"
   ]
  },
  {
   "cell_type": "code",
   "execution_count": 54,
   "metadata": {},
   "outputs": [
    {
     "data": {
      "text/plain": [
       "14"
      ]
     },
     "execution_count": 54,
     "metadata": {},
     "output_type": "execute_result"
    }
   ],
   "source": [
    "today.hour"
   ]
  }
 ],
 "metadata": {
  "kernelspec": {
   "display_name": "Python 3.10.6 ('mucsi-proyecto')",
   "language": "python",
   "name": "python3"
  },
  "language_info": {
   "codemirror_mode": {
    "name": "ipython",
    "version": 3
   },
   "file_extension": ".py",
   "mimetype": "text/x-python",
   "name": "python",
   "nbconvert_exporter": "python",
   "pygments_lexer": "ipython3",
   "version": "3.10.6"
  },
  "orig_nbformat": 4,
  "vscode": {
   "interpreter": {
    "hash": "572dd73b08da3991029ad3365839ba0c501f92db3519641e52d6668f2d392ddf"
   }
  }
 },
 "nbformat": 4,
 "nbformat_minor": 2
}
